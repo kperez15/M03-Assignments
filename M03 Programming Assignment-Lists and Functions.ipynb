{
 "cells": [
  {
   "cell_type": "code",
   "execution_count": 19,
   "id": "4beeb9f6-1c27-4f84-a732-16a0772e9eb3",
   "metadata": {},
   "outputs": [],
   "source": [
    "things = [\"mozzarella\", \"cinderella\", \"salmonella\"]"
   ]
  },
  {
   "cell_type": "code",
   "execution_count": 20,
   "id": "ca19d853-8266-4113-a78b-00e6d0db7580",
   "metadata": {},
   "outputs": [
    {
     "name": "stdout",
     "output_type": "stream",
     "text": [
      "['mozzarella', 'Cinderella', 'salmonella']\n"
     ]
    }
   ],
   "source": [
    "# The element that refers to a person\n",
    "person_index = things.index (\"cinderella\")\n",
    "\n",
    "# Capitalize the element\n",
    "things [person_index] = things [person_index]. capitalize()\n",
    "\n",
    "# Print updated list\n",
    "print (things)"
   ]
  },
  {
   "cell_type": "code",
   "execution_count": 21,
   "id": "61467b37-fb8c-474e-8d64-4975ddc79acf",
   "metadata": {},
   "outputs": [
    {
     "name": "stdout",
     "output_type": "stream",
     "text": [
      "['MOZZARELLA', 'Cinderella', 'salmonella']\n"
     ]
    }
   ],
   "source": [
    "# Index of the cheesy element\n",
    "cheesy_index = things.index (\"mozzarella\")\n",
    "\n",
    "# Convert cheesy element to uppercase\n",
    "things [cheesy_index] = things [cheesy_index] . upper()\n",
    "\n",
    "# Print updated list\n",
    "print (things)"
   ]
  },
  {
   "cell_type": "code",
   "execution_count": 22,
   "id": "d6fd62a9-6af4-4ea2-a37a-ea93ed8de3e0",
   "metadata": {},
   "outputs": [
    {
     "name": "stdout",
     "output_type": "stream",
     "text": [
      "['MOZZARELLA', 'Cinderella']\n"
     ]
    }
   ],
   "source": [
    "# Remove disease element\n",
    "things.remove (\"salmonella\")\n",
    "\n",
    "#Print updated list\n",
    "print (things)"
   ]
  },
  {
   "cell_type": "code",
   "execution_count": 23,
   "id": "db75be34-8023-4986-b6da-5da16d2701c7",
   "metadata": {},
   "outputs": [
    {
     "name": "stdout",
     "output_type": "stream",
     "text": [
      "['Harry', 'Ron', 'Hermione']\n"
     ]
    }
   ],
   "source": [
    "def good():\n",
    "    return ['Harry', 'Ron', 'Hermione']\n",
    "\n",
    "# Call the function and print result\n",
    "result = good()\n",
    "print (result)"
   ]
  },
  {
   "cell_type": "code",
   "execution_count": 27,
   "id": "db44bc30-6da6-4d96-af09-c61df3f443e8",
   "metadata": {},
   "outputs": [
    {
     "name": "stdout",
     "output_type": "stream",
     "text": [
      "5\n"
     ]
    }
   ],
   "source": [
    "def get_odds():\n",
    "    for num in range(10):\n",
    "        if num % 2 != 0:\n",
    "            yield num\n",
    "\n",
    "# Generator function in a for loop\n",
    "count = 0\n",
    "for num in get_odds ():\n",
    "    if count == 2:\n",
    "        print (num)\n",
    "        break\n",
    "\n",
    "    count += 1"
   ]
  },
  {
   "cell_type": "code",
   "execution_count": null,
   "id": "a7c3da48-7c8c-4d57-91e8-ed2d87805308",
   "metadata": {},
   "outputs": [],
   "source": []
  }
 ],
 "metadata": {
  "kernelspec": {
   "display_name": "Python 3 (ipykernel)",
   "language": "python",
   "name": "python3"
  },
  "language_info": {
   "codemirror_mode": {
    "name": "ipython",
    "version": 3
   },
   "file_extension": ".py",
   "mimetype": "text/x-python",
   "name": "python",
   "nbconvert_exporter": "python",
   "pygments_lexer": "ipython3",
   "version": "3.12.1"
  }
 },
 "nbformat": 4,
 "nbformat_minor": 5
}
